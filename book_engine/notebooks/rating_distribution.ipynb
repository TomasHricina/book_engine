{
 "cells": [
  {
   "cell_type": "code",
   "execution_count": 1,
   "source": [
    "'''\n",
    "Show Pareto distribution of ALL book ratings\n",
    "'''\n",
    "%matplotlib widget\n",
    "\n",
    "from book_engine.src.data.prune_ratings import prune\n",
    "\n",
    "\n",
    "# Load ratings dataset\n",
    "try:\n",
    "    book_ratings = prune(output_to_file=False)\n",
    "    book_ratings['books']['ratings_count'].plot()   \n",
    "except FileNotFoundError:\n",
    "    print('Dataset not found - run: book_engine prune')"
   ],
   "outputs": [
    {
     "output_type": "stream",
     "name": "stderr",
     "text": [
      "2021-07-30 09:08:10,512 - book_engine - INFO - Prunning started\n"
     ]
    },
    {
     "output_type": "stream",
     "name": "stdout",
     "text": [
      "Dataset not found - run: book_engine prune\n"
     ]
    }
   ],
   "metadata": {}
  }
 ],
 "metadata": {
  "orig_nbformat": 4,
  "language_info": {
   "name": "python",
   "version": "3.8.10",
   "mimetype": "text/x-python",
   "codemirror_mode": {
    "name": "ipython",
    "version": 3
   },
   "pygments_lexer": "ipython3",
   "nbconvert_exporter": "python",
   "file_extension": ".py"
  },
  "kernelspec": {
   "name": "python3",
   "display_name": "Python 3.8.10 64-bit"
  },
  "interpreter": {
   "hash": "31f2aee4e71d21fbe5cf8b01ff0e069b9275f58929596ceb00d14d90e3e16cd6"
  }
 },
 "nbformat": 4,
 "nbformat_minor": 2
}